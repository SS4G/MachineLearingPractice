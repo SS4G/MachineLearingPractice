{
 "cells": [
  {
   "cell_type": "code",
   "execution_count": 1,
   "metadata": {
    "collapsed": false
   },
   "outputs": [],
   "source": [
    "import pandas as pd\n",
    "import numpy as np\n",
    "from collections import defaultdict\n",
    "from sklearn.model_selection import train_test_split\n",
    "\n",
    "def getWifiInfoAndSort(wifistrs):\n",
    "    transform = lambda wifiinfo: (wifiinfo[0], int(wifiinfo[1]), wifiinfo[2] == \"True\")\n",
    "    return sorted([transform(onewifi.split('|')) for onewifi in wifistrs.split(\";\")], key=lambda x:x[1] ,reverse=True) # sorted by db\n",
    "\n",
    "def scoreForWifi(shopDatas, k, unconnectWeights, connectWeight):\n",
    "    wifiToShop = defaultdict(lambda :defaultdict(lambda :0)) # wifiToShop[wifi][shop]\n",
    "    for rowSeries in shopDatas.iterrows():\n",
    "        wifiForOneShop = getWifiInfoAndSort(rowSeries[1]['wifi_infos'])\n",
    "        wifiForOneShop = wifiForOneShop[:min(len(wifiForOneShop),k)]\n",
    "        currentShop = rowSeries[1]['shop_id']\n",
    "        for idx, wifi in enumerate(wifiForOneShop):\n",
    "            if not wifi[2]:\n",
    "                wifiToShop[wifi[0]][currentShop] += unconnectWeights[idx] \n",
    "            else:\n",
    "                wifiToShop[wifi[0]][currentShop] += connectWeight  #if wifi is connected\n",
    "    return wifiToShop\n",
    "\n",
    "def getShop(wifiToShop, wifis, k, weights): # 获取前k个最强的wifi信号\n",
    "    shopScore = defaultdict(lambda :0) # wifiToShop[wifi][shop]\n",
    "    wifiForOneShop = getWifiInfoAndSort(wifis)\n",
    "    wifiForOneShop = wifiForOneShop[:min(len(wifiForOneShop),k)]\n",
    "    for idx, wifi in enumerate(wifiForOneShop):\n",
    "        for shop in wifiToShop[wifi[0]]:\n",
    "            shopScore[shop] += weights[idx] + wifiToShop[wifi][shop] # 给当前搜索到的wifi根据强度赋一个权重 然后乘上对应wifi对应商店的权重 \n",
    "            #当前越近的wifi影响力越大\n",
    "    if len(shopScore) == 0:\n",
    "        return \"Nan\"\n",
    "    return sorted(shopScore.items(), key=lambda x: x[1], reverse=True)[0][0]"
   ]
  },
  {
   "cell_type": "code",
   "execution_count": 2,
   "metadata": {
    "collapsed": false
   },
   "outputs": [],
   "source": [
    "# load Data\n",
    "#user_id\tshop_id\ttime_stamp\tlongitude\tlatitude\twifi_infos\n",
    "userBehavior = pd.read_csv(\"/home/szh-921/workSpace/data/train-ccf_first_round_user_shop_behavior.csv\")\n",
    "testDataSet = pd.read_csv(\"/home/szh-921/workSpace/data/AB-testSet-evaluation_public.csv\")\n",
    "\n",
    "\n",
    "trainDataSet = userBehavior[['wifi_infos','shop_id']]\n",
    "\n",
    "#xtrain, xtest, ytrain, ytest = train_test_split(trainDataSet['wifi_infos'], trainDataSet['shop_id'], test_size=0.25, random_state=33)\n",
    "#trainDataSet = pd.DataFrame({'wifi_infos':xtrain, 'shop_id':ytrain})\n",
    "#testDataSet = pd.DataFrame({'row_id':np.arange(ytest.shape[0]), 'wifi_infos':xtest})\n",
    "testDataSet = testDataSet[['row_id', 'wifi_infos']]"
   ]
  },
  {
   "cell_type": "code",
   "execution_count": 3,
   "metadata": {
    "collapsed": false
   },
   "outputs": [],
   "source": [
    "#traingData = pd.DataFrame({'wifi_info': wifiTrain, 'shop_id': shopTrain})\n",
    "#testData = pd.DataFrame({'wifi_info': wifiTest, 'shop_id': shopTest})#.head(200)\n",
    "#print(type(testData.values))"
   ]
  },
  {
   "cell_type": "code",
   "execution_count": 4,
   "metadata": {
    "collapsed": true
   },
   "outputs": [],
   "source": [
    "# main\n",
    "# parameter set\n",
    "k = 20\n",
    "weights = list(reversed(range(51)))\n",
    "testK = k\n",
    "trainK = k"
   ]
  },
  {
   "cell_type": "code",
   "execution_count": 5,
   "metadata": {
    "collapsed": false
   },
   "outputs": [],
   "source": [
    "#Traing\n",
    "wifiToShop = scoreForWifi(trainDataSet, trainK, weights[:k], k)"
   ]
  },
  {
   "cell_type": "code",
   "execution_count": 6,
   "metadata": {
    "collapsed": false
   },
   "outputs": [],
   "source": [
    "#Test\n",
    "result = ['0,1'] * testDataSet.shape[0]\n",
    "#print(len(result))\n",
    "#print(testDataSet.shape)\n",
    "for idx, row in enumerate(testDataSet.iterrows()):\n",
    "    result[int(idx)] = getShop(wifiToShop, row[1]['wifi_infos'], testK, weights[:k])"
   ]
  },
  {
   "cell_type": "code",
   "execution_count": 7,
   "metadata": {
    "collapsed": false
   },
   "outputs": [],
   "source": [
    "# ouput result\n",
    "tosubmmitResult = pd.DataFrame({'row_id': testDataSet['row_id'], 'shop_id': result})\n",
    "#acc = (ytest == tosubmmitResult['shop_id']).sum() / testDataSet.shape[0]\n",
    "#print(\"acc=\", acc)\n",
    "tosubmmitResult.to_csv(\"/home/szh-921/workSpace/data/submmit_result.csv\")"
   ]
  },
  {
   "cell_type": "code",
   "execution_count": null,
   "metadata": {
    "collapsed": true
   },
   "outputs": [],
   "source": []
  },
  {
   "cell_type": "code",
   "execution_count": null,
   "metadata": {
    "collapsed": true
   },
   "outputs": [],
   "source": []
  }
 ],
 "metadata": {
  "kernelspec": {
   "display_name": "Python 3",
   "language": "python",
   "name": "python3"
  },
  "language_info": {
   "codemirror_mode": {
    "name": "ipython",
    "version": 3
   },
   "file_extension": ".py",
   "mimetype": "text/x-python",
   "name": "python",
   "nbconvert_exporter": "python",
   "pygments_lexer": "ipython3",
   "version": "3.6.0"
  }
 },
 "nbformat": 4,
 "nbformat_minor": 2
}
