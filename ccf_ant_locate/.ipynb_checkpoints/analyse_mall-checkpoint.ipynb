{
 "cells": [
  {
   "cell_type": "code",
   "execution_count": 120,
   "metadata": {
    "collapsed": false
   },
   "outputs": [
    {
     "data": {
      "text/html": [
       "<div>\n",
       "<table border=\"1\" class=\"dataframe\">\n",
       "  <thead>\n",
       "    <tr style=\"text-align: right;\">\n",
       "      <th></th>\n",
       "      <th>shop_id</th>\n",
       "      <th>category_id</th>\n",
       "      <th>longitude</th>\n",
       "      <th>latitude</th>\n",
       "      <th>price</th>\n",
       "      <th>mall_id</th>\n",
       "    </tr>\n",
       "  </thead>\n",
       "  <tbody>\n",
       "    <tr>\n",
       "      <th>0</th>\n",
       "      <td>s_26</td>\n",
       "      <td>c_4</td>\n",
       "      <td>122.346736</td>\n",
       "      <td>31.833507</td>\n",
       "      <td>57</td>\n",
       "      <td>m_690</td>\n",
       "    </tr>\n",
       "    <tr>\n",
       "      <th>1</th>\n",
       "      <td>s_133</td>\n",
       "      <td>c_6</td>\n",
       "      <td>121.134362</td>\n",
       "      <td>31.197511</td>\n",
       "      <td>58</td>\n",
       "      <td>m_6587</td>\n",
       "    </tr>\n",
       "    <tr>\n",
       "      <th>2</th>\n",
       "      <td>s_251</td>\n",
       "      <td>c_38</td>\n",
       "      <td>121.000505</td>\n",
       "      <td>30.907667</td>\n",
       "      <td>34</td>\n",
       "      <td>m_5892</td>\n",
       "    </tr>\n",
       "    <tr>\n",
       "      <th>3</th>\n",
       "      <td>s_372</td>\n",
       "      <td>c_30</td>\n",
       "      <td>119.864982</td>\n",
       "      <td>26.659876</td>\n",
       "      <td>44</td>\n",
       "      <td>m_625</td>\n",
       "    </tr>\n",
       "    <tr>\n",
       "      <th>4</th>\n",
       "      <td>s_456</td>\n",
       "      <td>c_26</td>\n",
       "      <td>122.594243</td>\n",
       "      <td>31.581499</td>\n",
       "      <td>44</td>\n",
       "      <td>m_3839</td>\n",
       "    </tr>\n",
       "  </tbody>\n",
       "</table>\n",
       "</div>"
      ],
      "text/plain": [
       "  shop_id category_id   longitude   latitude  price mall_id\n",
       "0    s_26         c_4  122.346736  31.833507     57   m_690\n",
       "1   s_133         c_6  121.134362  31.197511     58  m_6587\n",
       "2   s_251        c_38  121.000505  30.907667     34  m_5892\n",
       "3   s_372        c_30  119.864982  26.659876     44   m_625\n",
       "4   s_456        c_26  122.594243  31.581499     44  m_3839"
      ]
     },
     "execution_count": 120,
     "metadata": {},
     "output_type": "execute_result"
    }
   ],
   "source": [
    "import pandas as pd\n",
    "import matplotlib.pyplot as plt\n",
    "import numpy as np\n",
    "#print()\n",
    "df = pd.read_csv(\"/home/szh-921/workSpace/data/training-ccf_first_round_shop_info.csv\")#.head(5)\n",
    "df.head(5)\n",
    "#plt.scatter(np.arange(10000), np.random.randint(0, high=1000, size=10000), marker='*')\n",
    "#plt.show()"
   ]
  },
  {
   "cell_type": "code",
   "execution_count": 121,
   "metadata": {
    "collapsed": false
   },
   "outputs": [
    {
     "name": "stdout",
     "output_type": "stream",
     "text": [
      "mall nums = 97\n",
      "shop nums = 8477\n"
     ]
    }
   ],
   "source": [
    "print(\"mall nums =\", len(df['mall_id'].value_counts()))\n",
    "print(\"shop nums =\", len(df['shop_id'].value_counts()))"
   ]
  },
  {
   "cell_type": "code",
   "execution_count": 122,
   "metadata": {
    "collapsed": false
   },
   "outputs": [
    {
     "data": {
      "image/png": "[encoded data removed]",
      "text/plain": [
       "<matplotlib.figure.Figure at 0x7feb2b5f2e48>"
      ]
     },
     "metadata": {},
     "output_type": "display_data"
    }
   ],
   "source": [
    "plt.scatter(df['longitude'], df['latitude'], marker='.', linewidth='0.01')\n",
    "plt.show()"
   ]
  },
  {
   "cell_type": "code",
   "execution_count": 123,
   "metadata": {
    "collapsed": false
   },
   "outputs": [],
   "source": [
    "#df2 = df.sort_values(by='mall_id')\n",
    "#df2['longitude'].head(3)"
   ]
  },
  {
   "cell_type": "code",
   "execution_count": 124,
   "metadata": {
    "collapsed": true
   },
   "outputs": [],
   "source": [
    "groupedByMall = df.groupby(by='mall_id')"
   ]
  },
  {
   "cell_type": "code",
   "execution_count": 125,
   "metadata": {
    "collapsed": false
   },
   "outputs": [
    {
     "data": {
      "text/html": [
       "<div>\n",
       "<table border=\"1\" class=\"dataframe\">\n",
       "  <thead>\n",
       "    <tr style=\"text-align: right;\">\n",
       "      <th></th>\n",
       "      <th>latitude</th>\n",
       "      <th>longitude</th>\n",
       "      <th>mall_id</th>\n",
       "    </tr>\n",
       "  </thead>\n",
       "  <tbody>\n",
       "    <tr>\n",
       "      <th>0</th>\n",
       "      <td>29.738236</td>\n",
       "      <td>107.516978</td>\n",
       "      <td>m_1021</td>\n",
       "    </tr>\n",
       "    <tr>\n",
       "      <th>1</th>\n",
       "      <td>42.367096</td>\n",
       "      <td>123.800242</td>\n",
       "      <td>m_1085</td>\n",
       "    </tr>\n",
       "    <tr>\n",
       "      <th>2</th>\n",
       "      <td>24.783732</td>\n",
       "      <td>118.204822</td>\n",
       "      <td>m_1089</td>\n",
       "    </tr>\n",
       "    <tr>\n",
       "      <th>3</th>\n",
       "      <td>30.815507</td>\n",
       "      <td>120.745569</td>\n",
       "      <td>m_1175</td>\n",
       "    </tr>\n",
       "    <tr>\n",
       "      <th>4</th>\n",
       "      <td>38.215767</td>\n",
       "      <td>121.531334</td>\n",
       "      <td>m_1263</td>\n",
       "    </tr>\n",
       "    <tr>\n",
       "      <th>5</th>\n",
       "      <td>31.653232</td>\n",
       "      <td>121.963234</td>\n",
       "      <td>m_1293</td>\n",
       "    </tr>\n",
       "    <tr>\n",
       "      <th>6</th>\n",
       "      <td>31.917653</td>\n",
       "      <td>121.312980</td>\n",
       "      <td>m_1375</td>\n",
       "    </tr>\n",
       "    <tr>\n",
       "      <th>7</th>\n",
       "      <td>31.081061</td>\n",
       "      <td>114.474312</td>\n",
       "      <td>m_1377</td>\n",
       "    </tr>\n",
       "    <tr>\n",
       "      <th>8</th>\n",
       "      <td>32.087663</td>\n",
       "      <td>122.308510</td>\n",
       "      <td>m_1409</td>\n",
       "    </tr>\n",
       "    <tr>\n",
       "      <th>9</th>\n",
       "      <td>40.666416</td>\n",
       "      <td>117.365323</td>\n",
       "      <td>m_1621</td>\n",
       "    </tr>\n",
       "  </tbody>\n",
       "</table>\n",
       "</div>"
      ],
      "text/plain": [
       "    latitude   longitude mall_id\n",
       "0  29.738236  107.516978  m_1021\n",
       "1  42.367096  123.800242  m_1085\n",
       "2  24.783732  118.204822  m_1089\n",
       "3  30.815507  120.745569  m_1175\n",
       "4  38.215767  121.531334  m_1263\n",
       "5  31.653232  121.963234  m_1293\n",
       "6  31.917653  121.312980  m_1375\n",
       "7  31.081061  114.474312  m_1377\n",
       "8  32.087663  122.308510  m_1409\n",
       "9  40.666416  117.365323  m_1621"
      ]
     },
     "execution_count": 125,
     "metadata": {},
     "output_type": "execute_result"
    }
   ],
   "source": [
    "mallPos = groupedByMall.mean()[['longitude', 'latitude']]\n",
    "mallPos.index.name = None\n",
    "mallPos = pd.DataFrame({'mall_id':mallPos.index, 'longitude':mallPos['longitude'], 'latitude':mallPos['latitude']})\n",
    "mallPos.index = np.arange(mallPos.shape[0])\n",
    "mallPos.head(10) # 商场id 与经纬度的映射表 经纬度是根据商场内的 商户的经纬度平均得到的"
   ]
  },
  {
   "cell_type": "code",
   "execution_count": 126,
   "metadata": {
    "collapsed": false
   },
   "outputs": [
    {
     "data": {
      "image/png": "[encoded data removed]",
      "text/plain": [
       "<matplotlib.figure.Figure at 0x7feb2bd5ecf8>"
      ]
     },
     "metadata": {},
     "output_type": "display_data"
    }
   ],
   "source": [
    "plt.scatter(mallPos['longitude'], mallPos['latitude'], marker = '.', linewidth=0.01)\n",
    "plt.show() # 大致可以看出是个中国城市的分布 加密只是做了平移"
   ]
  },
  {
   "cell_type": "code",
   "execution_count": 127,
   "metadata": {
    "collapsed": false
   },
   "outputs": [
    {
     "data": {
      "text/html": [
       "<div>\n",
       "<table border=\"1\" class=\"dataframe\">\n",
       "  <thead>\n",
       "    <tr style=\"text-align: right;\">\n",
       "      <th></th>\n",
       "      <th>latitude</th>\n",
       "      <th>longitude</th>\n",
       "      <th>mall_id</th>\n",
       "    </tr>\n",
       "  </thead>\n",
       "  <tbody>\n",
       "    <tr>\n",
       "      <th>0</th>\n",
       "      <td>23.158513</td>\n",
       "      <td>113.564008</td>\n",
       "      <td>m_909</td>\n",
       "    </tr>\n",
       "    <tr>\n",
       "      <th>1</th>\n",
       "      <td>23.305834</td>\n",
       "      <td>114.331406</td>\n",
       "      <td>m_3313</td>\n",
       "    </tr>\n",
       "    <tr>\n",
       "      <th>2</th>\n",
       "      <td>23.337437</td>\n",
       "      <td>113.782029</td>\n",
       "      <td>m_7374</td>\n",
       "    </tr>\n",
       "    <tr>\n",
       "      <th>3</th>\n",
       "      <td>23.559286</td>\n",
       "      <td>114.436453</td>\n",
       "      <td>m_4459</td>\n",
       "    </tr>\n",
       "    <tr>\n",
       "      <th>4</th>\n",
       "      <td>23.832686</td>\n",
       "      <td>113.789846</td>\n",
       "      <td>m_1831</td>\n",
       "    </tr>\n",
       "    <tr>\n",
       "      <th>5</th>\n",
       "      <td>23.927853</td>\n",
       "      <td>114.092185</td>\n",
       "      <td>m_2907</td>\n",
       "    </tr>\n",
       "    <tr>\n",
       "      <th>6</th>\n",
       "      <td>24.783732</td>\n",
       "      <td>118.204822</td>\n",
       "      <td>m_1089</td>\n",
       "    </tr>\n",
       "    <tr>\n",
       "      <th>7</th>\n",
       "      <td>25.206636</td>\n",
       "      <td>119.043837</td>\n",
       "      <td>m_3871</td>\n",
       "    </tr>\n",
       "    <tr>\n",
       "      <th>8</th>\n",
       "      <td>25.332949</td>\n",
       "      <td>117.838790</td>\n",
       "      <td>m_5154</td>\n",
       "    </tr>\n",
       "    <tr>\n",
       "      <th>9</th>\n",
       "      <td>25.433161</td>\n",
       "      <td>118.899861</td>\n",
       "      <td>m_4548</td>\n",
       "    </tr>\n",
       "  </tbody>\n",
       "</table>\n",
       "</div>"
      ],
      "text/plain": [
       "    latitude   longitude mall_id\n",
       "0  23.158513  113.564008   m_909\n",
       "1  23.305834  114.331406  m_3313\n",
       "2  23.337437  113.782029  m_7374\n",
       "3  23.559286  114.436453  m_4459\n",
       "4  23.832686  113.789846  m_1831\n",
       "5  23.927853  114.092185  m_2907\n",
       "6  24.783732  118.204822  m_1089\n",
       "7  25.206636  119.043837  m_3871\n",
       "8  25.332949  117.838790  m_5154\n",
       "9  25.433161  118.899861  m_4548"
      ]
     },
     "execution_count": 127,
     "metadata": {},
     "output_type": "execute_result"
    }
   ],
   "source": [
    "sortedPos = mallPos.sort_values(by=[\"latitude\", \"longitude\"])\n",
    "sortedPos # 先按照维度排序 再按照经度排序\n",
    "sortedPos.index = np.arange(sortedPos.shape[0])\n",
    "sortedPos.head(10)"
   ]
  },
  {
   "cell_type": "code",
   "execution_count": 128,
   "metadata": {
    "collapsed": false
   },
   "outputs": [
    {
     "name": "stdout",
     "output_type": "stream",
     "text": [
      "114.331406104\n"
     ]
    }
   ],
   "source": [
    "print(sortedPos['longitude'][1]) # 注意pandas是先选取"
   ]
  },
  {
   "cell_type": "code",
   "execution_count": 129,
   "metadata": {
    "collapsed": true
   },
   "outputs": [],
   "source": [
    "for i in np.arange(1, sortedPos.shape[0]):\n",
    "    if abs(sortedPos['latitude'][i] - sortedPos['latitude'][i - 1]) < 0.01 and abs(sortedPos['longitude'][i] - sortedPos['longitude'][i - 1]) < 0.01:\n",
    "        print(\"too close\")\n",
    "        \n",
    "# 没有输出 表明各个商场里的足够远"
   ]
  },
  {
   "cell_type": "code",
   "execution_count": 130,
   "metadata": {
    "collapsed": true
   },
   "outputs": [],
   "source": [
    "sortedPos.to_csv(\"/home/szh-921/workSpace/data/mall_position.csv\", index=False) # 保存商场的id与经纬度的映射"
   ]
  },
  {
   "cell_type": "code",
   "execution_count": 131,
   "metadata": {
    "collapsed": true
   },
   "outputs": [],
   "source": [
    "# 下面要将对应的wifi数据分配到对应的商场中"
   ]
  }
 ],
 "metadata": {
  "kernelspec": {
   "display_name": "Python 3",
   "language": "python",
   "name": "python3"
  },
  "language_info": {
   "codemirror_mode": {
    "name": "ipython",
    "version": 3
   },
   "file_extension": ".py",
   "mimetype": "text/x-python",
   "name": "python",
   "nbconvert_exporter": "python",
   "pygments_lexer": "ipython3",
   "version": "3.6.0"
  }
 },
 "nbformat": 4,
 "nbformat_minor": 2
}
