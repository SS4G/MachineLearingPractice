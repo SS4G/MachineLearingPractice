{
 "cells": [
  {
   "cell_type": "code",
   "execution_count": 5,
   "metadata": {
    "collapsed": false
   },
   "outputs": [
    {
     "data": {
      "text/html": [
       "<div>\n",
       "<table border=\"1\" class=\"dataframe\">\n",
       "  <thead>\n",
       "    <tr style=\"text-align: right;\">\n",
       "      <th></th>\n",
       "      <th>user_id</th>\n",
       "      <th>shop_id</th>\n",
       "      <th>time_stamp</th>\n",
       "      <th>longitude</th>\n",
       "      <th>latitude</th>\n",
       "      <th>wifi_infos</th>\n",
       "    </tr>\n",
       "  </thead>\n",
       "  <tbody>\n",
       "    <tr>\n",
       "      <th>0</th>\n",
       "      <td>u_376</td>\n",
       "      <td>s_2871718</td>\n",
       "      <td>2017-08-06 21:20</td>\n",
       "      <td>122.308291</td>\n",
       "      <td>32.08804</td>\n",
       "      <td>b_6396480|-67|false;b_41124514|-86|false;b_287...</td>\n",
       "    </tr>\n",
       "    <tr>\n",
       "      <th>1</th>\n",
       "      <td>u_376</td>\n",
       "      <td>s_2871718</td>\n",
       "      <td>2017-08-06 21:20</td>\n",
       "      <td>122.308162</td>\n",
       "      <td>32.08797</td>\n",
       "      <td>b_6396480|-67|false;b_56328155|-73|false;b_411...</td>\n",
       "    </tr>\n",
       "  </tbody>\n",
       "</table>\n",
       "</div>"
      ],
      "text/plain": [
       "  user_id    shop_id        time_stamp   longitude  latitude  \\\n",
       "0   u_376  s_2871718  2017-08-06 21:20  122.308291  32.08804   \n",
       "1   u_376  s_2871718  2017-08-06 21:20  122.308162  32.08797   \n",
       "\n",
       "                                          wifi_infos  \n",
       "0  b_6396480|-67|false;b_41124514|-86|false;b_287...  \n",
       "1  b_6396480|-67|false;b_56328155|-73|false;b_411...  "
      ]
     },
     "execution_count": 5,
     "metadata": {},
     "output_type": "execute_result"
    }
   ],
   "source": [
    "import pandas as pd\n",
    "import numpy as np\n",
    "from sklearn import  preprocessing\n",
    "import xgboost as xgb\n",
    "import lightgbm as lgb    \n",
    "path='/home/szh-921/workSpace/data/'\n",
    "df=pd.read_csv(path+'train-ccf_first_round_user_shop_behavior.csv')\n",
    "shop=pd.read_csv(path+'training-ccf_first_round_shop_info.csv')\n",
    "test=pd.read_csv(path+'AB-testSet-evaluation_public.csv')\n",
    "df.head(2)"
   ]
  },
  {
   "cell_type": "code",
   "execution_count": 7,
   "metadata": {
    "collapsed": false
   },
   "outputs": [
    {
     "data": {
      "text/html": [
       "<div>\n",
       "<table border=\"1\" class=\"dataframe\">\n",
       "  <thead>\n",
       "    <tr style=\"text-align: right;\">\n",
       "      <th></th>\n",
       "      <th>shop_id</th>\n",
       "      <th>category_id</th>\n",
       "      <th>longitude</th>\n",
       "      <th>latitude</th>\n",
       "      <th>price</th>\n",
       "      <th>mall_id</th>\n",
       "    </tr>\n",
       "  </thead>\n",
       "  <tbody>\n",
       "    <tr>\n",
       "      <th>0</th>\n",
       "      <td>s_26</td>\n",
       "      <td>c_4</td>\n",
       "      <td>122.346736</td>\n",
       "      <td>31.833507</td>\n",
       "      <td>57</td>\n",
       "      <td>m_690</td>\n",
       "    </tr>\n",
       "    <tr>\n",
       "      <th>1</th>\n",
       "      <td>s_133</td>\n",
       "      <td>c_6</td>\n",
       "      <td>121.134362</td>\n",
       "      <td>31.197511</td>\n",
       "      <td>58</td>\n",
       "      <td>m_6587</td>\n",
       "    </tr>\n",
       "  </tbody>\n",
       "</table>\n",
       "</div>"
      ],
      "text/plain": [
       "  shop_id category_id   longitude   latitude  price mall_id\n",
       "0    s_26         c_4  122.346736  31.833507     57   m_690\n",
       "1   s_133         c_6  121.134362  31.197511     58  m_6587"
      ]
     },
     "execution_count": 7,
     "metadata": {},
     "output_type": "execute_result"
    }
   ],
   "source": [
    "shop.head(2)"
   ]
  },
  {
   "cell_type": "code",
   "execution_count": 8,
   "metadata": {
    "collapsed": false
   },
   "outputs": [
    {
     "data": {
      "text/html": [
       "<div>\n",
       "<table border=\"1\" class=\"dataframe\">\n",
       "  <thead>\n",
       "    <tr style=\"text-align: right;\">\n",
       "      <th></th>\n",
       "      <th>row_id</th>\n",
       "      <th>user_id</th>\n",
       "      <th>mall_id</th>\n",
       "      <th>time_stamp</th>\n",
       "      <th>longitude</th>\n",
       "      <th>latitude</th>\n",
       "      <th>wifi_infos</th>\n",
       "    </tr>\n",
       "  </thead>\n",
       "  <tbody>\n",
       "    <tr>\n",
       "      <th>0</th>\n",
       "      <td>118742</td>\n",
       "      <td>u_30097142</td>\n",
       "      <td>m_3916</td>\n",
       "      <td>2017-09-05 13:00</td>\n",
       "      <td>122.141011</td>\n",
       "      <td>39.818847</td>\n",
       "      <td>b_34366982|-82|false;b_37756289|-53|false;b_41...</td>\n",
       "    </tr>\n",
       "    <tr>\n",
       "      <th>1</th>\n",
       "      <td>118743</td>\n",
       "      <td>u_30097803</td>\n",
       "      <td>m_5085</td>\n",
       "      <td>2017-09-06 13:10</td>\n",
       "      <td>118.191907</td>\n",
       "      <td>32.855858</td>\n",
       "      <td>b_36722251|-81|false;b_10537579|-75|false;b_43...</td>\n",
       "    </tr>\n",
       "  </tbody>\n",
       "</table>\n",
       "</div>"
      ],
      "text/plain": [
       "   row_id     user_id mall_id        time_stamp   longitude   latitude  \\\n",
       "0  118742  u_30097142  m_3916  2017-09-05 13:00  122.141011  39.818847   \n",
       "1  118743  u_30097803  m_5085  2017-09-06 13:10  118.191907  32.855858   \n",
       "\n",
       "                                          wifi_infos  \n",
       "0  b_34366982|-82|false;b_37756289|-53|false;b_41...  \n",
       "1  b_36722251|-81|false;b_10537579|-75|false;b_43...  "
      ]
     },
     "execution_count": 8,
     "metadata": {},
     "output_type": "execute_result"
    }
   ],
   "source": [
    "test.head(2)"
   ]
  },
  {
   "cell_type": "code",
   "execution_count": 9,
   "metadata": {
    "collapsed": false
   },
   "outputs": [
    {
     "data": {
      "text/html": [
       "<div>\n",
       "<table border=\"1\" class=\"dataframe\">\n",
       "  <thead>\n",
       "    <tr style=\"text-align: right;\">\n",
       "      <th></th>\n",
       "      <th>user_id</th>\n",
       "      <th>shop_id</th>\n",
       "      <th>time_stamp</th>\n",
       "      <th>longitude</th>\n",
       "      <th>latitude</th>\n",
       "      <th>wifi_infos</th>\n",
       "      <th>mall_id</th>\n",
       "    </tr>\n",
       "  </thead>\n",
       "  <tbody>\n",
       "    <tr>\n",
       "      <th>0</th>\n",
       "      <td>u_376</td>\n",
       "      <td>s_2871718</td>\n",
       "      <td>2017-08-06 21:20</td>\n",
       "      <td>122.308291</td>\n",
       "      <td>32.08804</td>\n",
       "      <td>b_6396480|-67|false;b_41124514|-86|false;b_287...</td>\n",
       "      <td>m_1409</td>\n",
       "    </tr>\n",
       "    <tr>\n",
       "      <th>1</th>\n",
       "      <td>u_376</td>\n",
       "      <td>s_2871718</td>\n",
       "      <td>2017-08-06 21:20</td>\n",
       "      <td>122.308162</td>\n",
       "      <td>32.08797</td>\n",
       "      <td>b_6396480|-67|false;b_56328155|-73|false;b_411...</td>\n",
       "      <td>m_1409</td>\n",
       "    </tr>\n",
       "  </tbody>\n",
       "</table>\n",
       "</div>"
      ],
      "text/plain": [
       "  user_id    shop_id        time_stamp   longitude  latitude  \\\n",
       "0   u_376  s_2871718  2017-08-06 21:20  122.308291  32.08804   \n",
       "1   u_376  s_2871718  2017-08-06 21:20  122.308162  32.08797   \n",
       "\n",
       "                                          wifi_infos mall_id  \n",
       "0  b_6396480|-67|false;b_41124514|-86|false;b_287...  m_1409  \n",
       "1  b_6396480|-67|false;b_56328155|-73|false;b_411...  m_1409  "
      ]
     },
     "execution_count": 9,
     "metadata": {},
     "output_type": "execute_result"
    }
   ],
   "source": [
    "df=pd.merge(df,shop[['shop_id','mall_id']],how='left',on='shop_id') # 增加mall_id\n",
    "df.head(2)"
   ]
  },
  {
   "cell_type": "code",
   "execution_count": 10,
   "metadata": {
    "collapsed": false,
    "scrolled": true
   },
   "outputs": [
    {
     "data": {
      "text/html": [
       "<div>\n",
       "<table border=\"1\" class=\"dataframe\">\n",
       "  <thead>\n",
       "    <tr style=\"text-align: right;\">\n",
       "      <th></th>\n",
       "      <th>user_id</th>\n",
       "      <th>shop_id</th>\n",
       "      <th>time_stamp</th>\n",
       "      <th>longitude</th>\n",
       "      <th>latitude</th>\n",
       "      <th>wifi_infos</th>\n",
       "      <th>mall_id</th>\n",
       "    </tr>\n",
       "  </thead>\n",
       "  <tbody>\n",
       "    <tr>\n",
       "      <th>0</th>\n",
       "      <td>u_376</td>\n",
       "      <td>s_2871718</td>\n",
       "      <td>2017-08-06 21:20:00</td>\n",
       "      <td>122.308291</td>\n",
       "      <td>32.08804</td>\n",
       "      <td>b_6396480|-67|false;b_41124514|-86|false;b_287...</td>\n",
       "      <td>m_1409</td>\n",
       "    </tr>\n",
       "    <tr>\n",
       "      <th>1</th>\n",
       "      <td>u_376</td>\n",
       "      <td>s_2871718</td>\n",
       "      <td>2017-08-06 21:20:00</td>\n",
       "      <td>122.308162</td>\n",
       "      <td>32.08797</td>\n",
       "      <td>b_6396480|-67|false;b_56328155|-73|false;b_411...</td>\n",
       "      <td>m_1409</td>\n",
       "    </tr>\n",
       "  </tbody>\n",
       "</table>\n",
       "</div>"
      ],
      "text/plain": [
       "  user_id    shop_id          time_stamp   longitude  latitude  \\\n",
       "0   u_376  s_2871718 2017-08-06 21:20:00  122.308291  32.08804   \n",
       "1   u_376  s_2871718 2017-08-06 21:20:00  122.308162  32.08797   \n",
       "\n",
       "                                          wifi_infos mall_id  \n",
       "0  b_6396480|-67|false;b_41124514|-86|false;b_287...  m_1409  \n",
       "1  b_6396480|-67|false;b_56328155|-73|false;b_411...  m_1409  "
      ]
     },
     "execution_count": 10,
     "metadata": {},
     "output_type": "execute_result"
    }
   ],
   "source": [
    "df['time_stamp']=pd.to_datetime(df['time_stamp']) # 将时间转换为时间戳 \n",
    "df.head(2)"
   ]
  },
  {
   "cell_type": "code",
   "execution_count": 13,
   "metadata": {
    "collapsed": false,
    "scrolled": true
   },
   "outputs": [
    {
     "data": {
      "text/html": [
       "<div>\n",
       "<table border=\"1\" class=\"dataframe\">\n",
       "  <thead>\n",
       "    <tr style=\"text-align: right;\">\n",
       "      <th></th>\n",
       "      <th>latitude</th>\n",
       "      <th>longitude</th>\n",
       "      <th>mall_id</th>\n",
       "      <th>row_id</th>\n",
       "      <th>shop_id</th>\n",
       "      <th>time_stamp</th>\n",
       "      <th>user_id</th>\n",
       "      <th>wifi_infos</th>\n",
       "    </tr>\n",
       "  </thead>\n",
       "  <tbody>\n",
       "    <tr>\n",
       "      <th>0</th>\n",
       "      <td>32.08804</td>\n",
       "      <td>122.308291</td>\n",
       "      <td>m_1409</td>\n",
       "      <td>NaN</td>\n",
       "      <td>s_2871718</td>\n",
       "      <td>2017-08-06 21:20:00</td>\n",
       "      <td>u_376</td>\n",
       "      <td>b_6396480|-67|false;b_41124514|-86|false;b_287...</td>\n",
       "    </tr>\n",
       "    <tr>\n",
       "      <th>1</th>\n",
       "      <td>32.08797</td>\n",
       "      <td>122.308162</td>\n",
       "      <td>m_1409</td>\n",
       "      <td>NaN</td>\n",
       "      <td>s_2871718</td>\n",
       "      <td>2017-08-06 21:20:00</td>\n",
       "      <td>u_376</td>\n",
       "      <td>b_6396480|-67|false;b_56328155|-73|false;b_411...</td>\n",
       "    </tr>\n",
       "  </tbody>\n",
       "</table>\n",
       "</div>"
      ],
      "text/plain": [
       "   latitude   longitude mall_id  row_id    shop_id           time_stamp  \\\n",
       "0  32.08804  122.308291  m_1409     NaN  s_2871718  2017-08-06 21:20:00   \n",
       "1  32.08797  122.308162  m_1409     NaN  s_2871718  2017-08-06 21:20:00   \n",
       "\n",
       "  user_id                                         wifi_infos  \n",
       "0   u_376  b_6396480|-67|false;b_41124514|-86|false;b_287...  \n",
       "1   u_376  b_6396480|-67|false;b_56328155|-73|false;b_411...  "
      ]
     },
     "execution_count": 13,
     "metadata": {},
     "output_type": "execute_result"
    }
   ],
   "source": [
    "train = pd.concat([df,test])\n",
    "train.head(2)"
   ]
  },
  {
   "cell_type": "code",
   "execution_count": 14,
   "metadata": {
    "collapsed": false,
    "scrolled": true
   },
   "outputs": [
    {
     "data": {
      "text/html": [
       "<div>\n",
       "<table border=\"1\" class=\"dataframe\">\n",
       "  <thead>\n",
       "    <tr style=\"text-align: right;\">\n",
       "      <th></th>\n",
       "      <th>latitude</th>\n",
       "      <th>longitude</th>\n",
       "      <th>mall_id</th>\n",
       "      <th>row_id</th>\n",
       "      <th>shop_id</th>\n",
       "      <th>time_stamp</th>\n",
       "      <th>user_id</th>\n",
       "      <th>wifi_infos</th>\n",
       "    </tr>\n",
       "  </thead>\n",
       "  <tbody>\n",
       "    <tr>\n",
       "      <th>483929</th>\n",
       "      <td>40.497446</td>\n",
       "      <td>116.941283</td>\n",
       "      <td>m_4828</td>\n",
       "      <td>483930.0</td>\n",
       "      <td>NaN</td>\n",
       "      <td>2017-09-11 12:10</td>\n",
       "      <td>u_63920157</td>\n",
       "      <td>b_45089046|-47|true;b_49160464|-65|false;b_397...</td>\n",
       "    </tr>\n",
       "    <tr>\n",
       "      <th>483930</th>\n",
       "      <td>32.753948</td>\n",
       "      <td>119.874121</td>\n",
       "      <td>m_7973</td>\n",
       "      <td>483931.0</td>\n",
       "      <td>NaN</td>\n",
       "      <td>2017-09-10 18:10</td>\n",
       "      <td>u_63920806</td>\n",
       "      <td>b_25163301|-69|false;b_39872252|-57|false;b_25...</td>\n",
       "    </tr>\n",
       "  </tbody>\n",
       "</table>\n",
       "</div>"
      ],
      "text/plain": [
       "         latitude   longitude mall_id    row_id shop_id        time_stamp  \\\n",
       "483929  40.497446  116.941283  m_4828  483930.0     NaN  2017-09-11 12:10   \n",
       "483930  32.753948  119.874121  m_7973  483931.0     NaN  2017-09-10 18:10   \n",
       "\n",
       "           user_id                                         wifi_infos  \n",
       "483929  u_63920157  b_45089046|-47|true;b_49160464|-65|false;b_397...  \n",
       "483930  u_63920806  b_25163301|-69|false;b_39872252|-57|false;b_25...  "
      ]
     },
     "execution_count": 14,
     "metadata": {},
     "output_type": "execute_result"
    }
   ],
   "source": [
    "train.tail(2)"
   ]
  },
  {
   "cell_type": "code",
   "execution_count": null,
   "metadata": {
    "collapsed": true
   },
   "outputs": [],
   "source": [
    "mall_list=list(set(list(shop.mall_id))) # 获取mall_id的集合\n",
    "result=pd.DataFrame()"
   ]
  },
  {
   "cell_type": "code",
   "execution_count": null,
   "metadata": {
    "collapsed": true
   },
   "outputs": [],
   "source": [
    "for mall in mall_list:\n",
    "    train1=train[train.mall_id==mall].reset_index(drop=True) #筛选出 属于的某一个商场的训练集 \n",
    "    #一下的都是针对一个商场的\n",
    "    l=[]\n",
    "    wifi_dict = {}\n",
    "    for index, row in train1.iterrows():\n",
    "        wifi_list = [wifi.split('|') for wifi in row['wifi_infos'].split(';')]\n",
    "        for i in wifi_list: #一个用户的wifi\n",
    "            row[i[0]]=int(i[1]) #给一个Series 赋一个属性 这个属性的值是wifi的强度 i[0] 是wifi的bssid\n",
    "            if i[0] not in wifi_dict: #如果一个wifi在一个用户的记录中出现 给对应的wifi字典中加一\n",
    "                wifi_dict[i[0]]=1\n",
    "            else:\n",
    "                wifi_dict[i[0]]+=1\n",
    "        l.append(row) # 将修改后的用户记录放在 l中\n",
    "    delate_wifi=[] # 设置一个无用的WiFi列表\n",
    "    for i in wifi_dict:\n",
    "        if wifi_dict[i] < 20: # 以20为阈值 小于这个数的就准备丢掉\n",
    "            delate_wifi.append(i) \n",
    "    m=[]\n",
    "    for row in l:\n",
    "        new={}\n",
    "        for n in row.keys():\n",
    "            if n not in delate_wifi:\n",
    "                new[n]=row[n] # 过滤要删除的wifi\n",
    "        m.append(new)\n",
    "    train1=pd.DataFrame(m) # 将过滤了无价值wifi的 信息重新生成 训练集  wifiid 被当做属性 相当于是非数值属性的独热编码编码 \n",
    "    df_train=train1[train1.shop_id.notnull()] # 将合并过滤掉wifi的整体数据 通过shopid是否存在来区分为 测试机和训练集\n",
    "    df_test=train1[train1.shop_id.isnull()]\n",
    "    \n",
    "    \n",
    "    lbl = preprocessing.LabelEncoder()\n",
    "    lbl.fit(list(df_train['shop_id'].values)) \n",
    "    df_train['label'] = lbl.transform(list(df_train['shop_id'].values)) #大概是吧shop_id变成了0~n-1的整数 吧标签数字化 \n",
    "    #估计是为了提升效率把 毕竟整数比较比字符串快 在训练过程中 会反复的大量的进行标签的比较\n",
    "    num_class=df_train['label'].max()+1  # 所有的shop_id 数量为n  \n",
    "    params = {# xgboost 参数\n",
    "            'objective': 'multi:softmax', # 损失函数 多分类\n",
    "            'num_class':num_class, # 多分类的另一个参数 需要制定最终1标签中有多少类\n",
    "            'eta': 0.1, # 学习率 \n",
    "            'max_depth': 9, # 每颗树的最大深度 越大越容易过拟合\n",
    "            'eval_metric': 'merror', # 度量分类效果的参数\n",
    "            'seed': 0, # 随机数种子 用于产生可复现成果\n",
    "            'missing': -999, # 填充NaN的值\n",
    "            'silent' : 1 #运行信息输出\n",
    "            }\n",
    "    \n",
    "    feature=[x for x in train1.columns if x not in ['user_id','label','shop_id','time_stamp','mall_id','wifi_infos']] \n",
    "    #freature是把除了这上面的几个例子的特征职位的其他特征做了 训练用的特征 下面是xgboost的训练过程   \n",
    "    xgbtrain = xgb.DMatrix(df_train[feature], df_train['label']) # 吧[特征,标注]放在一起做 作为训练集\n",
    "    xgbtest = xgb.DMatrix(df_test[feature])\n",
    "    watchlist = [ (xgbtrain,'train'), (xgbtrain, 'test') ]\n",
    "    num_rounds = 60\n",
    "    model = xgb.train(params, xgbtrain, num_rounds, watchlist, early_stopping_rounds=15)\n",
    "    \n",
    "    df_test['label'] = model.predict(xgbtest)\n",
    "    df_test['shop_id'] = df_test['label'].apply(lambda x:lbl.inverse_transform(int(x))) # 把数字化的标签在反向转化为 shop_id 使用apply函数对每一项进行调用\n",
    "    r = df_test[['row_id','shop_id']]\n",
    "    result = pd.concat([result,r])\n",
    "    result['row_id'] = result['row_id'].astype('int') # row_id 在过程中会被转化为float 但是最后要转化为 int\n",
    "    result.to_csv(path+'sub.csv',index=False) "
   ]
  }
 ],
 "metadata": {
  "kernelspec": {
   "display_name": "Python 3",
   "language": "python",
   "name": "python3"
  },
  "language_info": {
   "codemirror_mode": {
    "name": "ipython",
    "version": 3
   },
   "file_extension": ".py",
   "mimetype": "text/x-python",
   "name": "python",
   "nbconvert_exporter": "python",
   "pygments_lexer": "ipython3",
   "version": "3.6.0"
  }
 },
 "nbformat": 4,
 "nbformat_minor": 2
}
