{
 "cells": [
  {
   "cell_type": "code",
   "execution_count": 1,
   "metadata": {
    "collapsed": false
   },
   "outputs": [],
   "source": [
    "import pandas as pd\n",
    "from collections import defaultdict\n",
    "from sklearn.model_selection import train_test_split\n",
    "#user_id\tshop_id\ttime_stamp\tlongitude\tlatitude\twifi_infos\n",
    "userBehavior = pd.read_csv(\"/home/szh-921/workSpace/data/train-ccf_first_round_user_shop_behavior.csv\")\n",
    "#print(userBehavior)\n",
    "userBehaUseful = userBehavior[['wifi_infos','shop_id']]\n",
    "#userBehaUseful\n",
    "wifiTrain, wifiTest, shopTrain, shopTest = train_test_split(userBehaUseful['wifi_infos'], userBehaUseful['shop_id'], test_size=0.25, random_state=33)\n"
   ]
  },
  {
   "cell_type": "code",
   "execution_count": 2,
   "metadata": {
    "collapsed": false
   },
   "outputs": [],
   "source": [
    "traingData = pd.DataFrame(dict([('wifi_info', wifiTrain), ('shop_id', shopTrain)]))\n",
    "testData = pd.DataFrame(dict([('wifi_info', wifiTest), ('shop_id', shopTest)]))#.head(200)\n",
    "#traingData.head(100).to_csv(\"/home/szh-921/workSpace/data/train_subset.csv\")\n",
    "#testData.head(100).to_csv(\"/home/szh-921/workSpace/data/test_subset.csv\")\n",
    "#print(traingData.size)\n",
    "#print(traingData.head(5))\n",
    "#print(testData.head(5))"
   ]
  },
  {
   "cell_type": "code",
   "execution_count": null,
   "metadata": {
    "collapsed": true
   },
   "outputs": [],
   "source": [
    "def getWifiInfoAndSort(wifistrs):\n",
    "    transform = lambda wifiinfo: (wifiinfo[0], int(wifiinfo[1]), wifiinfo[2] == \"True\")\n",
    "    return sorted([transform(onewifi.split('|')) for onewifi in wifistrs.split(\";\")], key=lambda x:x[1] ,reverse=True) # sorted by db\n",
    "\n",
    "def scoreForWifi(shopDatas, k, unconnectWeights, connectWeight):\n",
    "    wifiToShop = defaultdict(lambda :defaultdict(lambda :0)) # wifiToShop[wifi][shop]\n",
    "    for line in shopDatas.values:\n",
    "        wifiForOneShop = getWifiInfoAndSort(line[1])\n",
    "        wifiForOneShop = wifiForOneShop[:min(len(wifiForOneShop),k)]\n",
    "        currentShop = line[0]\n",
    "        for idx, wifi in enumerate(wifiForOneShop):\n",
    "            if not wifi[2]:\n",
    "                wifiToShop[wifi[0]][currentShop] += unconnectWeights[idx] \n",
    "            else:\n",
    "                wifiToShop[wifi[0]][currentShop] += connectWeight  #if wifi is connected\n",
    "    return wifiToShop\n",
    "\n",
    "def getShop(wifiToShop, wifis, k, weights): # 获取前k个最强的wifi信号\n",
    "    shopScore = defaultdict(lambda :0) # wifiToShop[wifi][shop]\n",
    "    wifiForOneShop = getWifiInfoAndSort(wifis)\n",
    "    wifiForOneShop = wifiForOneShop[:min(len(wifiForOneShop),k)]\n",
    "    for idx, wifi in enumerate(wifiForOneShop):\n",
    "        for shop in wifiToShop[wifi[0]]:\n",
    "            #shopScore[shop] += weights[idx] + wifiToShop[wifi][shop] # 给当前搜索到的wifi根据强度赋一个权重 然后乘上对应wifi对应商店的权重 \n",
    "            shopScore[shop] += wifiToShop[wifi][shop]\n",
    "            #当前越近的wifi影响力越大\n",
    "    if len(shopScore) == 0:\n",
    "        return \"Nan\"\n",
    "    return sorted(shopScore.items(), key=lambda x: x[1], reverse=True)[0][0]"
   ]
  },
  {
   "cell_type": "code",
   "execution_count": null,
   "metadata": {
    "collapsed": false
   },
   "outputs": [
    {
     "name": "stdout",
     "output_type": "stream",
     "text": [
      "at k= 1 acc rate= 0.391885527093\n",
      "at k= 2 acc rate= 0.383760861007\n",
      "at k= 3 acc rate= 0.366399066445\n"
     ]
    }
   ],
   "source": [
    "# main\n",
    "weights = list(reversed(range(51)))\n",
    "with open(\"/home/szh-921/workSpace/data/result_plus.log\", \"w\") as f:\n",
    "    for k in range(1, 15):\n",
    "        wifiToShop = scoreForWifi(traingData, k, weights[:k], 1)\n",
    "        testK = k\n",
    "        correct = 0\n",
    "        for line in testData.values:\n",
    "            correct += 1 if line[0] == getShop(wifiToShop, line[1], testK, weights[:k]) else 0\n",
    "        print(\"at k=\", k, \"acc rate=\", correct / testData.size)\n",
    "        f.write(\"at k=\" + str(k) + \"acc rate=\" + str(correct / testData.size) + \"\\n\")"
   ]
  },
  {
   "cell_type": "code",
   "execution_count": null,
   "metadata": {
    "collapsed": true
   },
   "outputs": [],
   "source": []
  },
  {
   "cell_type": "code",
   "execution_count": null,
   "metadata": {
    "collapsed": true
   },
   "outputs": [],
   "source": []
  },
  {
   "cell_type": "code",
   "execution_count": null,
   "metadata": {
    "collapsed": true
   },
   "outputs": [],
   "source": []
  }
 ],
 "metadata": {
  "kernelspec": {
   "display_name": "Python 3",
   "language": "python",
   "name": "python3"
  },
  "language_info": {
   "codemirror_mode": {
    "name": "ipython",
    "version": 3
   },
   "file_extension": ".py",
   "mimetype": "text/x-python",
   "name": "python",
   "nbconvert_exporter": "python",
   "pygments_lexer": "ipython3",
   "version": "3.6.0"
  }
 },
 "nbformat": 4,
 "nbformat_minor": 2
}
