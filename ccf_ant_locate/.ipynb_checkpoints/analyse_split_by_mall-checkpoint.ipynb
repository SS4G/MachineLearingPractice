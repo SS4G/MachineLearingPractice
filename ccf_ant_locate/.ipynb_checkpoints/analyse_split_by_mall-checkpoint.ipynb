{
 "cells": [
  {
   "cell_type": "code",
   "execution_count": 10,
   "metadata": {
    "collapsed": false
   },
   "outputs": [
    {
     "data": {
      "text/plain": [
       "(1138015, 6)"
      ]
     },
     "execution_count": 10,
     "metadata": {},
     "output_type": "execute_result"
    }
   ],
   "source": [
    "import pandas as pd\n",
    "import numpy as np\n",
    "from collections import defaultdict\n",
    "shopBehavdf = pd.read_csv(\"/home/szh-921/workSpace/data/train-ccf_first_round_user_shop_behavior.csv\")\n",
    "mallPosdf = pd.read_csv(\"/home/szh-921/workSpace/data/mall_position.csv\")\n",
    "shopInfodf = pd.read_csv(\"/home/szh-921/workSpace/data/training-ccf_first_round_shop_info.csv\")\n",
    "shopInfodf.head(5)\n",
    "shopBehavdf.shape"
   ]
  },
  {
   "cell_type": "code",
   "execution_count": 2,
   "metadata": {
    "collapsed": false
   },
   "outputs": [
    {
     "data": {
      "text/html": [
       "<div>\n",
       "<table border=\"1\" class=\"dataframe\">\n",
       "  <thead>\n",
       "    <tr style=\"text-align: right;\">\n",
       "      <th></th>\n",
       "      <th>latitude</th>\n",
       "      <th>longitude</th>\n",
       "      <th>mall_id</th>\n",
       "    </tr>\n",
       "  </thead>\n",
       "  <tbody>\n",
       "    <tr>\n",
       "      <th>0</th>\n",
       "      <td>23.158513</td>\n",
       "      <td>113.564008</td>\n",
       "      <td>m_909</td>\n",
       "    </tr>\n",
       "    <tr>\n",
       "      <th>1</th>\n",
       "      <td>23.305834</td>\n",
       "      <td>114.331406</td>\n",
       "      <td>m_3313</td>\n",
       "    </tr>\n",
       "    <tr>\n",
       "      <th>2</th>\n",
       "      <td>23.337437</td>\n",
       "      <td>113.782029</td>\n",
       "      <td>m_7374</td>\n",
       "    </tr>\n",
       "    <tr>\n",
       "      <th>3</th>\n",
       "      <td>23.559286</td>\n",
       "      <td>114.436453</td>\n",
       "      <td>m_4459</td>\n",
       "    </tr>\n",
       "    <tr>\n",
       "      <th>4</th>\n",
       "      <td>23.832686</td>\n",
       "      <td>113.789846</td>\n",
       "      <td>m_1831</td>\n",
       "    </tr>\n",
       "  </tbody>\n",
       "</table>\n",
       "</div>"
      ],
      "text/plain": [
       "    latitude   longitude mall_id\n",
       "0  23.158513  113.564008   m_909\n",
       "1  23.305834  114.331406  m_3313\n",
       "2  23.337437  113.782029  m_7374\n",
       "3  23.559286  114.436453  m_4459\n",
       "4  23.832686  113.789846  m_1831"
      ]
     },
     "execution_count": 2,
     "metadata": {},
     "output_type": "execute_result"
    }
   ],
   "source": [
    "mallPosdf.head(5)"
   ]
  },
  {
   "cell_type": "code",
   "execution_count": 3,
   "metadata": {
    "collapsed": false
   },
   "outputs": [
    {
     "data": {
      "text/html": [
       "<div>\n",
       "<table border=\"1\" class=\"dataframe\">\n",
       "  <thead>\n",
       "    <tr style=\"text-align: right;\">\n",
       "      <th></th>\n",
       "      <th>shop_id</th>\n",
       "      <th>category_id</th>\n",
       "      <th>longitude</th>\n",
       "      <th>latitude</th>\n",
       "      <th>price</th>\n",
       "      <th>mall_id</th>\n",
       "    </tr>\n",
       "  </thead>\n",
       "  <tbody>\n",
       "    <tr>\n",
       "      <th>0</th>\n",
       "      <td>s_26</td>\n",
       "      <td>c_4</td>\n",
       "      <td>122.346736</td>\n",
       "      <td>31.833507</td>\n",
       "      <td>57</td>\n",
       "      <td>m_690</td>\n",
       "    </tr>\n",
       "    <tr>\n",
       "      <th>1</th>\n",
       "      <td>s_133</td>\n",
       "      <td>c_6</td>\n",
       "      <td>121.134362</td>\n",
       "      <td>31.197511</td>\n",
       "      <td>58</td>\n",
       "      <td>m_6587</td>\n",
       "    </tr>\n",
       "    <tr>\n",
       "      <th>2</th>\n",
       "      <td>s_251</td>\n",
       "      <td>c_38</td>\n",
       "      <td>121.000505</td>\n",
       "      <td>30.907667</td>\n",
       "      <td>34</td>\n",
       "      <td>m_5892</td>\n",
       "    </tr>\n",
       "    <tr>\n",
       "      <th>3</th>\n",
       "      <td>s_372</td>\n",
       "      <td>c_30</td>\n",
       "      <td>119.864982</td>\n",
       "      <td>26.659876</td>\n",
       "      <td>44</td>\n",
       "      <td>m_625</td>\n",
       "    </tr>\n",
       "    <tr>\n",
       "      <th>4</th>\n",
       "      <td>s_456</td>\n",
       "      <td>c_26</td>\n",
       "      <td>122.594243</td>\n",
       "      <td>31.581499</td>\n",
       "      <td>44</td>\n",
       "      <td>m_3839</td>\n",
       "    </tr>\n",
       "  </tbody>\n",
       "</table>\n",
       "</div>"
      ],
      "text/plain": [
       "  shop_id category_id   longitude   latitude  price mall_id\n",
       "0    s_26         c_4  122.346736  31.833507     57   m_690\n",
       "1   s_133         c_6  121.134362  31.197511     58  m_6587\n",
       "2   s_251        c_38  121.000505  30.907667     34  m_5892\n",
       "3   s_372        c_30  119.864982  26.659876     44   m_625\n",
       "4   s_456        c_26  122.594243  31.581499     44  m_3839"
      ]
     },
     "execution_count": 3,
     "metadata": {},
     "output_type": "execute_result"
    }
   ],
   "source": [
    "shopInfodf.head(5)"
   ]
  },
  {
   "cell_type": "code",
   "execution_count": 4,
   "metadata": {
    "collapsed": false
   },
   "outputs": [
    {
     "data": {
      "text/html": [
       "<div>\n",
       "<table border=\"1\" class=\"dataframe\">\n",
       "  <thead>\n",
       "    <tr style=\"text-align: right;\">\n",
       "      <th></th>\n",
       "      <th>shop_id</th>\n",
       "      <th>category_id</th>\n",
       "      <th>longitude</th>\n",
       "      <th>latitude</th>\n",
       "      <th>price</th>\n",
       "      <th>mall_id</th>\n",
       "    </tr>\n",
       "  </thead>\n",
       "  <tbody>\n",
       "    <tr>\n",
       "      <th>8472</th>\n",
       "      <td>s_4062902</td>\n",
       "      <td>c_26</td>\n",
       "      <td>121.192550</td>\n",
       "      <td>31.799296</td>\n",
       "      <td>44</td>\n",
       "      <td>m_7601</td>\n",
       "    </tr>\n",
       "    <tr>\n",
       "      <th>8473</th>\n",
       "      <td>s_4063542</td>\n",
       "      <td>c_12</td>\n",
       "      <td>120.610590</td>\n",
       "      <td>34.057430</td>\n",
       "      <td>63</td>\n",
       "      <td>m_4515</td>\n",
       "    </tr>\n",
       "    <tr>\n",
       "      <th>8474</th>\n",
       "      <td>s_4064675</td>\n",
       "      <td>c_30</td>\n",
       "      <td>113.781881</td>\n",
       "      <td>23.338904</td>\n",
       "      <td>42</td>\n",
       "      <td>m_7374</td>\n",
       "    </tr>\n",
       "    <tr>\n",
       "      <th>8475</th>\n",
       "      <td>s_4067339</td>\n",
       "      <td>c_30</td>\n",
       "      <td>121.955369</td>\n",
       "      <td>39.587141</td>\n",
       "      <td>43</td>\n",
       "      <td>m_4543</td>\n",
       "    </tr>\n",
       "    <tr>\n",
       "      <th>8476</th>\n",
       "      <td>s_4070843</td>\n",
       "      <td>c_82</td>\n",
       "      <td>113.184466</td>\n",
       "      <td>38.378162</td>\n",
       "      <td>64</td>\n",
       "      <td>m_5810</td>\n",
       "    </tr>\n",
       "  </tbody>\n",
       "</table>\n",
       "</div>"
      ],
      "text/plain": [
       "        shop_id category_id   longitude   latitude  price mall_id\n",
       "8472  s_4062902        c_26  121.192550  31.799296     44  m_7601\n",
       "8473  s_4063542        c_12  120.610590  34.057430     63  m_4515\n",
       "8474  s_4064675        c_30  113.781881  23.338904     42  m_7374\n",
       "8475  s_4067339        c_30  121.955369  39.587141     43  m_4543\n",
       "8476  s_4070843        c_82  113.184466  38.378162     64  m_5810"
      ]
     },
     "execution_count": 4,
     "metadata": {},
     "output_type": "execute_result"
    }
   ],
   "source": [
    "shopInfodf.tail(5)"
   ]
  },
  {
   "cell_type": "code",
   "execution_count": 5,
   "metadata": {
    "collapsed": false
   },
   "outputs": [
    {
     "data": {
      "text/plain": [
       "s_26      m_690\n",
       "s_133    m_6587\n",
       "s_251    m_5892\n",
       "s_372     m_625\n",
       "s_456    m_3839\n",
       "dtype: object"
      ]
     },
     "execution_count": 5,
     "metadata": {},
     "output_type": "execute_result"
    }
   ],
   "source": [
    "shopToMallser = pd.Series(shopInfodf['mall_id'].values, index=shopInfodf['shop_id'])\n",
    "shopToMallser.index.name = None # 把index对象的name取消掉\n",
    "shopToMallser.head(5)"
   ]
  },
  {
   "cell_type": "code",
   "execution_count": 30,
   "metadata": {
    "collapsed": false
   },
   "outputs": [
    {
     "name": "stdout",
     "output_type": "stream",
     "text": [
      "0    s_2871718\n",
      "1    s_2871718\n",
      "2     s_181637\n",
      "3     s_609470\n",
      "4    s_3816766\n",
      "Name: shop_id, dtype: object\n",
      "1138010     s_532491\n",
      "1138011     s_765697\n",
      "1138012    s_3683594\n",
      "1138013     s_251652\n",
      "1138014     s_251652\n",
      "Name: shop_id, dtype: object\n"
     ]
    }
   ],
   "source": [
    "shopIdSer = shopBehavdf['shop_id'] \n",
    "print(shopIdSer.head(5))\n",
    "print(shopIdSer.tail(5))\n",
    "groupedShopBehav = shopBehavdf.groupby(by=lambda idx:shopToMallser[shopIdSer[idx]])\n"
   ]
  },
  {
   "cell_type": "code",
   "execution_count": 31,
   "metadata": {
    "collapsed": false
   },
   "outputs": [],
   "source": [
    "for mall, shopBehavdf0 in groupedShopBehav:\n",
    "    shopBehavdf0.to_csv(\"/home/szh-921/workSpace/data/shop_data_by_mall/\" + str(mall) + \"_shopBehav.csv\", index=False)"
   ]
  },
  {
   "cell_type": "code",
   "execution_count": 32,
   "metadata": {
    "collapsed": false
   },
   "outputs": [],
   "source": [
    "dataCnt = 0\n",
    "for mall, shopBehavdf0 in groupedShopBehav:\n",
    "   dataCnt += shopBehavdf0.shape[0]"
   ]
  },
  {
   "cell_type": "code",
   "execution_count": 33,
   "metadata": {
    "collapsed": false,
    "scrolled": true
   },
   "outputs": [
    {
     "name": "stdout",
     "output_type": "stream",
     "text": [
      "m_1085_shopBehav.csv 3611\n",
      "m_1831_shopBehav.csv 9904\n",
      "m_968_shopBehav.csv 12301\n",
      "m_2715_shopBehav.csv 5348\n",
      "m_4094_shopBehav.csv 25372\n",
      "m_7601_shopBehav.csv 6247\n",
      "m_1375_shopBehav.csv 11858\n",
      "m_6167_shopBehav.csv 5358\n",
      "m_8093_shopBehav.csv 9256\n",
      "m_4759_shopBehav.csv 6289\n",
      "m_4548_shopBehav.csv 5281\n",
      "m_2467_shopBehav.csv 21430\n",
      "m_4406_shopBehav.csv 8398\n",
      "m_3501_shopBehav.csv 5629\n",
      "m_5892_shopBehav.csv 17933\n",
      "m_690_shopBehav.csv 26816\n",
      "m_5810_shopBehav.csv 3749\n",
      "m_1790_shopBehav.csv 14973\n",
      "m_4495_shopBehav.csv 8726\n",
      "m_3528_shopBehav.csv 7658\n",
      "m_3313_shopBehav.csv 3754\n",
      "m_3112_shopBehav.csv 9779\n",
      "m_5767_shopBehav.csv 7853\n",
      "m_626_shopBehav.csv 9512\n",
      "m_4459_shopBehav.csv 5876\n",
      "m_1293_shopBehav.csv 22280\n",
      "m_3425_shopBehav.csv 6785\n",
      "m_3517_shopBehav.csv 11111\n",
      "m_2123_shopBehav.csv 4320\n",
      "m_4515_shopBehav.csv 6780\n",
      "m_4572_shopBehav.csv 9371\n",
      "m_7168_shopBehav.csv 26355\n",
      "m_5076_shopBehav.csv 21373\n",
      "m_3832_shopBehav.csv 14001\n",
      "m_2907_shopBehav.csv 12691\n",
      "m_5825_shopBehav.csv 16406\n",
      "m_5529_shopBehav.csv 5147\n",
      "m_1920_shopBehav.csv 15301\n",
      "m_8344_shopBehav.csv 19817\n",
      "m_2578_shopBehav.csv 10003\n",
      "m_7800_shopBehav.csv 19732\n",
      "m_2224_shopBehav.csv 15493\n",
      "m_7374_shopBehav.csv 11799\n",
      "m_3739_shopBehav.csv 15198\n",
      "m_4187_shopBehav.csv 9520\n",
      "m_979_shopBehav.csv 10943\n",
      "m_6803_shopBehav.csv 2057\n",
      "m_1021_shopBehav.csv 4924\n",
      "m_7994_shopBehav.csv 5937\n",
      "m_8379_shopBehav.csv 5336\n",
      "m_2333_shopBehav.csv 8302\n",
      "m_9068_shopBehav.csv 14375\n",
      "m_1950_shopBehav.csv 13032\n",
      "m_4011_shopBehav.csv 6492\n",
      "m_4923_shopBehav.csv 5770\n",
      "m_2058_shopBehav.csv 3280\n",
      "m_4121_shopBehav.csv 3849\n",
      "m_3445_shopBehav.csv 6132\n",
      "m_622_shopBehav.csv 10604\n",
      "m_615_shopBehav.csv 11491\n",
      "m_625_shopBehav.csv 11989\n",
      "m_4033_shopBehav.csv 9605\n",
      "m_1377_shopBehav.csv 24462\n",
      "m_3839_shopBehav.csv 22673\n",
      "m_909_shopBehav.csv 16736\n",
      "m_4168_shopBehav.csv 6162\n",
      "m_4543_shopBehav.csv 10011\n",
      "m_2009_shopBehav.csv 10191\n",
      "m_623_shopBehav.csv 6232\n",
      "m_3054_shopBehav.csv 11527\n",
      "m_3871_shopBehav.csv 16408\n",
      "m_2270_shopBehav.csv 9927\n",
      "m_5154_shopBehav.csv 7588\n",
      "m_6587_shopBehav.csv 12477\n",
      "m_1263_shopBehav.csv 9303\n",
      "m_3005_shopBehav.csv 21919\n",
      "m_6337_shopBehav.csv 25784\n",
      "m_7523_shopBehav.csv 16483\n",
      "m_3916_shopBehav.csv 6775\n",
      "m_4079_shopBehav.csv 20619\n",
      "m_2878_shopBehav.csv 10325\n",
      "m_1089_shopBehav.csv 5874\n",
      "m_822_shopBehav.csv 13426\n",
      "m_7973_shopBehav.csv 8729\n",
      "m_5352_shopBehav.csv 10378\n",
      "m_1175_shopBehav.csv 29894\n",
      "m_2182_shopBehav.csv 12275\n",
      "m_1409_shopBehav.csv 16692\n",
      "m_4422_shopBehav.csv 20741\n",
      "m_3019_shopBehav.csv 7645\n",
      "m_2267_shopBehav.csv 12360\n",
      "m_1621_shopBehav.csv 10482\n",
      "m_9054_shopBehav.csv 8197\n",
      "m_5085_shopBehav.csv 17680\n",
      "m_2415_shopBehav.csv 11663\n",
      "m_4828_shopBehav.csv 16361\n",
      "m_4341_shopBehav.csv 9504\n"
     ]
    }
   ],
   "source": [
    "import os\n",
    "basedir = \"/home/szh-921/workSpace/data/shop_data_by_mall/\"\n",
    "filenames = os.listdir(basedir)\n",
    "for file in filenames:\n",
    "    onemallDf = pd.read_csv(basedir+file)\n",
    "    print(file, onemallDf.shape[0]) #5810 号商场最多"
   ]
  },
  {
   "cell_type": "code",
   "execution_count": null,
   "metadata": {
    "collapsed": false
   },
   "outputs": [],
   "source": []
  },
  {
   "cell_type": "code",
   "execution_count": null,
   "metadata": {
    "collapsed": false
   },
   "outputs": [],
   "source": []
  },
  {
   "cell_type": "code",
   "execution_count": null,
   "metadata": {
    "collapsed": false
   },
   "outputs": [],
   "source": []
  },
  {
   "cell_type": "code",
   "execution_count": null,
   "metadata": {
    "collapsed": true
   },
   "outputs": [],
   "source": []
  }
 ],
 "metadata": {
  "kernelspec": {
   "display_name": "Python 3",
   "language": "python",
   "name": "python3"
  },
  "language_info": {
   "codemirror_mode": {
    "name": "ipython",
    "version": 3
   },
   "file_extension": ".py",
   "mimetype": "text/x-python",
   "name": "python",
   "nbconvert_exporter": "python",
   "pygments_lexer": "ipython3",
   "version": "3.6.0"
  }
 },
 "nbformat": 4,
 "nbformat_minor": 2
}
