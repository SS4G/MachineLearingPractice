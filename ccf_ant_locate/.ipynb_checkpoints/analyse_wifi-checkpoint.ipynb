{
 "cells": [
  {
   "cell_type": "code",
   "execution_count": 16,
   "metadata": {
    "collapsed": true
   },
   "outputs": [],
   "source": [
    "import pandas as pd\n",
    "import numpy as np\n"
   ]
  },
  {
   "cell_type": "code",
   "execution_count": 17,
   "metadata": {
    "collapsed": false
   },
   "outputs": [],
   "source": [
    "#按照wifi被连接数目进行排序\n",
    "userBehavDf = pd.read_csv(\"/home/szh-921/workSpace/data/shop_data_by_mall/m_6337_shopBehav.csv\")\n",
    "#userBehavDf = userBehavDf.head(2)"
   ]
  },
  {
   "cell_type": "code",
   "execution_count": 18,
   "metadata": {
    "collapsed": false
   },
   "outputs": [],
   "source": [
    "def parserWifi(wifiStr0):\n",
    "    #result = pd.DataFrame([], columns=['wifi_id', 'strength', 'connected'])\n",
    "    result = []\n",
    "    wifis = wifiStr0.split(';')\n",
    "    for wifi in wifis:\n",
    "        elements = wifi.split('|')\n",
    "        #ser = pd.Series([elements[0], int(elements[1]), elements==\"true\"], index=['wifi_id', 'strength', 'connected'])\n",
    "        ser = [elements[0], int(elements[1]), elements==\"true\"]\n",
    "        #print(ser)\n",
    "        result.append(ser)\n",
    "    return result"
   ]
  },
  {
   "cell_type": "code",
   "execution_count": 19,
   "metadata": {
    "collapsed": false
   },
   "outputs": [],
   "source": [
    "wifiDf = pd.DataFrame([], columns=['wifi_id', 'strength', 'connected'])\n",
    "tmpRes = []\n",
    "for idx, row in userBehavDf.iterrows():\n",
    "    #print(row['wifi_infos'])\n",
    "    tmpRes.extend(parserWifi(row['wifi_infos'])) "
   ]
  },
  {
   "cell_type": "code",
   "execution_count": 20,
   "metadata": {
    "collapsed": false
   },
   "outputs": [],
   "source": [
    "wifiDf = pd.DataFrame(tmpRes, columns=['wifi_id', 'strength', 'connected'])\n",
    "#wifiDf"
   ]
  },
  {
   "cell_type": "code",
   "execution_count": 21,
   "metadata": {
    "collapsed": false
   },
   "outputs": [
    {
     "data": {
      "text/html": [
       "<div>\n",
       "<table border=\"1\" class=\"dataframe\">\n",
       "  <thead>\n",
       "    <tr style=\"text-align: right;\">\n",
       "      <th></th>\n",
       "      <th>wifi_id</th>\n",
       "      <th>strength</th>\n",
       "      <th>connected</th>\n",
       "    </tr>\n",
       "  </thead>\n",
       "  <tbody>\n",
       "    <tr>\n",
       "      <th>0</th>\n",
       "      <td>b_4997635</td>\n",
       "      <td>-58</td>\n",
       "      <td>False</td>\n",
       "    </tr>\n",
       "    <tr>\n",
       "      <th>1</th>\n",
       "      <td>b_4997722</td>\n",
       "      <td>-52</td>\n",
       "      <td>False</td>\n",
       "    </tr>\n",
       "    <tr>\n",
       "      <th>2</th>\n",
       "      <td>b_48143444</td>\n",
       "      <td>-51</td>\n",
       "      <td>False</td>\n",
       "    </tr>\n",
       "    <tr>\n",
       "      <th>3</th>\n",
       "      <td>b_4997636</td>\n",
       "      <td>-81</td>\n",
       "      <td>False</td>\n",
       "    </tr>\n",
       "    <tr>\n",
       "      <th>4</th>\n",
       "      <td>b_11243280</td>\n",
       "      <td>-65</td>\n",
       "      <td>False</td>\n",
       "    </tr>\n",
       "    <tr>\n",
       "      <th>5</th>\n",
       "      <td>b_18834149</td>\n",
       "      <td>-82</td>\n",
       "      <td>False</td>\n",
       "    </tr>\n",
       "    <tr>\n",
       "      <th>6</th>\n",
       "      <td>b_48345381</td>\n",
       "      <td>-51</td>\n",
       "      <td>False</td>\n",
       "    </tr>\n",
       "    <tr>\n",
       "      <th>7</th>\n",
       "      <td>b_4997622</td>\n",
       "      <td>-79</td>\n",
       "      <td>False</td>\n",
       "    </tr>\n",
       "    <tr>\n",
       "      <th>8</th>\n",
       "      <td>b_11243256</td>\n",
       "      <td>-73</td>\n",
       "      <td>False</td>\n",
       "    </tr>\n",
       "    <tr>\n",
       "      <th>9</th>\n",
       "      <td>b_1038851</td>\n",
       "      <td>-83</td>\n",
       "      <td>False</td>\n",
       "    </tr>\n",
       "  </tbody>\n",
       "</table>\n",
       "</div>"
      ],
      "text/plain": [
       "      wifi_id  strength connected\n",
       "0   b_4997635       -58     False\n",
       "1   b_4997722       -52     False\n",
       "2  b_48143444       -51     False\n",
       "3   b_4997636       -81     False\n",
       "4  b_11243280       -65     False\n",
       "5  b_18834149       -82     False\n",
       "6  b_48345381       -51     False\n",
       "7   b_4997622       -79     False\n",
       "8  b_11243256       -73     False\n",
       "9   b_1038851       -83     False"
      ]
     },
     "execution_count": 21,
     "metadata": {},
     "output_type": "execute_result"
    }
   ],
   "source": [
    "wifiDf.head(10)"
   ]
  },
  {
   "cell_type": "code",
   "execution_count": 29,
   "metadata": {
    "collapsed": false
   },
   "outputs": [
    {
     "data": {
      "text/html": [
       "<div>\n",
       "<table border=\"1\" class=\"dataframe\">\n",
       "  <thead>\n",
       "    <tr style=\"text-align: right;\">\n",
       "      <th></th>\n",
       "      <th>wifi_id</th>\n",
       "      <th>strength</th>\n",
       "      <th>connected</th>\n",
       "    </tr>\n",
       "  </thead>\n",
       "  <tbody>\n",
       "    <tr>\n",
       "      <th>6479</th>\n",
       "      <td>b_4997637</td>\n",
       "      <td>-5</td>\n",
       "      <td>False</td>\n",
       "    </tr>\n",
       "    <tr>\n",
       "      <th>104758</th>\n",
       "      <td>b_21773322</td>\n",
       "      <td>-5</td>\n",
       "      <td>False</td>\n",
       "    </tr>\n",
       "    <tr>\n",
       "      <th>104756</th>\n",
       "      <td>b_30087199</td>\n",
       "      <td>-5</td>\n",
       "      <td>False</td>\n",
       "    </tr>\n",
       "    <tr>\n",
       "      <th>63919</th>\n",
       "      <td>b_17323832</td>\n",
       "      <td>-6</td>\n",
       "      <td>False</td>\n",
       "    </tr>\n",
       "    <tr>\n",
       "      <th>230890</th>\n",
       "      <td>b_17323832</td>\n",
       "      <td>-7</td>\n",
       "      <td>False</td>\n",
       "    </tr>\n",
       "    <tr>\n",
       "      <th>199678</th>\n",
       "      <td>b_10456021</td>\n",
       "      <td>-7</td>\n",
       "      <td>False</td>\n",
       "    </tr>\n",
       "    <tr>\n",
       "      <th>87016</th>\n",
       "      <td>b_29483991</td>\n",
       "      <td>-8</td>\n",
       "      <td>False</td>\n",
       "    </tr>\n",
       "    <tr>\n",
       "      <th>166650</th>\n",
       "      <td>b_55691496</td>\n",
       "      <td>-8</td>\n",
       "      <td>False</td>\n",
       "    </tr>\n",
       "    <tr>\n",
       "      <th>143374</th>\n",
       "      <td>b_31966054</td>\n",
       "      <td>-9</td>\n",
       "      <td>False</td>\n",
       "    </tr>\n",
       "    <tr>\n",
       "      <th>192138</th>\n",
       "      <td>b_17323832</td>\n",
       "      <td>-10</td>\n",
       "      <td>False</td>\n",
       "    </tr>\n",
       "  </tbody>\n",
       "</table>\n",
       "</div>"
      ],
      "text/plain": [
       "           wifi_id  strength connected\n",
       "6479     b_4997637        -5     False\n",
       "104758  b_21773322        -5     False\n",
       "104756  b_30087199        -5     False\n",
       "63919   b_17323832        -6     False\n",
       "230890  b_17323832        -7     False\n",
       "199678  b_10456021        -7     False\n",
       "87016   b_29483991        -8     False\n",
       "166650  b_55691496        -8     False\n",
       "143374  b_31966054        -9     False\n",
       "192138  b_17323832       -10     False"
      ]
     },
     "execution_count": 29,
     "metadata": {},
     "output_type": "execute_result"
    }
   ],
   "source": [
    "sortByStrength = wifiDf.sort_values(by=\"strength\",ascending=False)\n",
    "sortByStrength.head(10)\n",
    "#wifiDf.sort_values?"
   ]
  },
  {
   "cell_type": "code",
   "execution_count": null,
   "metadata": {
    "collapsed": true
   },
   "outputs": [],
   "source": []
  }
 ],
 "metadata": {
  "kernelspec": {
   "display_name": "Python 3",
   "language": "python",
   "name": "python3"
  },
  "language_info": {
   "codemirror_mode": {
    "name": "ipython",
    "version": 3
   },
   "file_extension": ".py",
   "mimetype": "text/x-python",
   "name": "python",
   "nbconvert_exporter": "python",
   "pygments_lexer": "ipython3",
   "version": "3.6.0"
  }
 },
 "nbformat": 4,
 "nbformat_minor": 2
}
